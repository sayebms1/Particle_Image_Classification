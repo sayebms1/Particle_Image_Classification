{
  "nbformat": 4,
  "nbformat_minor": 0,
  "metadata": {
    "colab": {
      "name": "Copy of ParticleImages.ipynb",
      "provenance": [],
      "collapsed_sections": [],
      "toc_visible": true
    },
    "kernelspec": {
      "name": "python3",
      "display_name": "Python 3"
    },
    "accelerator": "GPU"
  },
  "cells": [
    {
      "cell_type": "markdown",
      "metadata": {
        "id": "P3DtjEbf8M4I"
      },
      "source": [
        "# Hackathon - Particle Images\n",
        "## Team members: Yaqi Han, Mohammad Sayeb\n",
        "\n"
      ]
    },
    {
      "cell_type": "markdown",
      "metadata": {
        "id": "g0b6SRpWl2Xh"
      },
      "source": [
        "## Create the appropriate project folder "
      ]
    },
    {
      "cell_type": "code",
      "metadata": {
        "id": "OYRULwKaw_A6"
      },
      "source": [
        "mkdir Particle_Images"
      ],
      "execution_count": null,
      "outputs": []
    },
    {
      "cell_type": "code",
      "metadata": {
        "id": "at-4-Xub8DYW",
        "outputId": "994a6d51-36b1-4a0c-a9df-8f3194ce2f02",
        "colab": {
          "base_uri": "https://localhost:8080/"
        }
      },
      "source": [
        "cd Particle_Images"
      ],
      "execution_count": null,
      "outputs": [
        {
          "output_type": "stream",
          "text": [
            "/content/Particle_Images\n"
          ],
          "name": "stdout"
        }
      ]
    },
    {
      "cell_type": "code",
      "metadata": {
        "id": "BQGKM10j2CiQ"
      },
      "source": [
        "mkdir data/"
      ],
      "execution_count": null,
      "outputs": []
    },
    {
      "cell_type": "markdown",
      "metadata": {
        "id": "PEtRyfNv9XVn"
      },
      "source": [
        "# Download the Dataset"
      ]
    },
    {
      "cell_type": "code",
      "metadata": {
        "id": "rcK1wY4Qt_7Y",
        "outputId": "1893371e-747c-438a-b0d5-1d765b6007ab",
        "colab": {
          "base_uri": "https://localhost:8080/"
        }
      },
      "source": [
        "#!/bin/bash\n",
        "!wget https://cernbox.cern.ch/index.php/s/sHjzCNFTFxutYCj/download -O data/SingleElectronPt50_IMGCROPS_n249k_RHv1.hdf5\n",
        "!wget https://cernbox.cern.ch/index.php/s/69nGEZjOy3xGxBq/download -O data/SinglePhotonPt50_IMGCROPS_n249k_RHv1.hdf5"
      ],
      "execution_count": null,
      "outputs": [
        {
          "output_type": "stream",
          "text": [
            "--2020-10-30 22:44:25--  https://cernbox.cern.ch/index.php/s/sHjzCNFTFxutYCj/download\n",
            "Resolving cernbox.cern.ch (cernbox.cern.ch)... 188.184.97.72, 128.142.32.26, 137.138.120.151, ...\n",
            "Connecting to cernbox.cern.ch (cernbox.cern.ch)|188.184.97.72|:443... connected.\n",
            "HTTP request sent, awaiting response... 200 OK\n",
            "Length: 87010508 (83M) [application/octet-stream]\n",
            "Saving to: ‘data/SingleElectronPt50_IMGCROPS_n249k_RHv1.hdf5’\n",
            "\n",
            "data/SingleElectron 100%[===================>]  82.98M  15.8MB/s    in 6.7s    \n",
            "\n",
            "Last-modified header invalid -- time-stamp ignored.\n",
            "2020-10-30 22:44:42 (12.4 MB/s) - ‘data/SingleElectronPt50_IMGCROPS_n249k_RHv1.hdf5’ saved [87010508/87010508]\n",
            "\n",
            "--2020-10-30 22:44:42--  https://cernbox.cern.ch/index.php/s/69nGEZjOy3xGxBq/download\n",
            "Resolving cernbox.cern.ch (cernbox.cern.ch)... 128.142.32.38, 188.184.97.72, 137.138.120.151, ...\n",
            "Connecting to cernbox.cern.ch (cernbox.cern.ch)|128.142.32.38|:443... connected.\n",
            "HTTP request sent, awaiting response... 200 OK\n",
            "Length: 79876391 (76M) [application/octet-stream]\n",
            "Saving to: ‘data/SinglePhotonPt50_IMGCROPS_n249k_RHv1.hdf5’\n",
            "\n",
            "data/SinglePhotonPt 100%[===================>]  76.18M  19.0MB/s    in 5.0s    \n",
            "\n",
            "Last-modified header invalid -- time-stamp ignored.\n",
            "2020-10-30 22:44:49 (15.4 MB/s) - ‘data/SinglePhotonPt50_IMGCROPS_n249k_RHv1.hdf5’ saved [79876391/79876391]\n",
            "\n"
          ],
          "name": "stdout"
        }
      ]
    },
    {
      "cell_type": "markdown",
      "metadata": {
        "id": "BepRE7pn8Du7"
      },
      "source": [
        "# Import modules"
      ]
    },
    {
      "cell_type": "code",
      "metadata": {
        "id": "ZnLzC5paz0hb"
      },
      "source": [
        "import numpy as np\n",
        "np.random.seed(1337)  # for reproducibility\n",
        "import h5py\n",
        "from keras.models import Sequential\n",
        "from keras.optimizers import Adam, Nadam\n",
        "from keras.initializers import TruncatedNormal\n",
        "from keras.layers import Input, Dense, Dropout, Flatten, Conv2D, MaxPooling2D\n",
        "from keras.callbacks import ReduceLROnPlateau\n",
        "\n",
        "from sklearn.metrics import roc_curve, auc\n",
        "\n",
        "import matplotlib.pyplot as plt"
      ],
      "execution_count": null,
      "outputs": []
    },
    {
      "cell_type": "markdown",
      "metadata": {
        "id": "Az_MoJwZ8K6l"
      },
      "source": [
        "# Keras Model Parameters"
      ]
    },
    {
      "cell_type": "code",
      "metadata": {
        "id": "ZzF8AHl_4yUA"
      },
      "source": [
        "lr_init     = 1.e-3    # Initial learning rate  \n",
        "batch_size  = 64       # Training batch size\n",
        "train_size  = 131072     # Training size\n",
        "valid_size  = 4096     # Validation size\n",
        "test_size   = 16384     # Test size\n",
        "epochs      = 25       # Number of epochs\n",
        "doGPU       = False    # Use GPU"
      ],
      "execution_count": null,
      "outputs": []
    },
    {
      "cell_type": "markdown",
      "metadata": {
        "id": "_jX_l-WmplJx"
      },
      "source": [
        "## It is recommended to use GPU for training and inference if possible."
      ]
    },
    {
      "cell_type": "code",
      "metadata": {
        "id": "PVq1XGr640nJ"
      },
      "source": [
        "if doGPU:\n",
        "    import tensorflow as tf\n",
        "    from keras.backend.tensorflow_backend import set_session\n",
        "    config = tf.ConfigProto()\n",
        "    config.gpu_options.allow_growth=True\n",
        "    set_session(tf.Session(config=config))"
      ],
      "execution_count": null,
      "outputs": []
    },
    {
      "cell_type": "markdown",
      "metadata": {
        "id": "xwc56kXJ8TLo"
      },
      "source": [
        "## We are only using the particle energy channel"
      ]
    },
    {
      "cell_type": "code",
      "metadata": {
        "id": "kr4QIMlt424u"
      },
      "source": [
        "img_rows, img_cols, nb_channels = 32, 32, 2        \n",
        "input_dir = 'data'\n",
        "decays = ['SinglePhotonPt50_IMGCROPS_n249k_RHv1', 'SingleElectronPt50_IMGCROPS_n249k_RHv1']\n",
        "\n",
        "def load_data(decays, start, stop):\n",
        "    global input_dir\n",
        "    dsets = [h5py.File('%s/%s.hdf5'%(input_dir,decay)) for decay in decays]\n",
        "    X = np.concatenate([dset['/X'][start:stop] for dset in dsets])\n",
        "    y = np.concatenate([dset['/y'][start:stop] for dset in dsets])\n",
        "    X = X[:,:,:,0].reshape((X.shape[0],X.shape[1],X.shape[2],1))\n",
        "    assert len(X) == len(y)\n",
        "    return X, y"
      ],
      "execution_count": null,
      "outputs": []
    },
    {
      "cell_type": "markdown",
      "metadata": {
        "id": "-JpHCOf38fDL"
      },
      "source": [
        "# Configure Training / Validation / Test Sets"
      ]
    },
    {
      "cell_type": "code",
      "metadata": {
        "id": "-RTXS58x46Fq",
        "outputId": "80de6ba0-0d19-4c49-c458-b6f77553fff3",
        "colab": {
          "base_uri": "https://localhost:8080/"
        }
      },
      "source": [
        "# Set range of training set\n",
        "train_start, train_stop = 0, train_size\n",
        "assert train_stop > train_start\n",
        "assert (len(decays)*train_size) % batch_size == 0\n",
        "X_train, y_train = load_data(decays,train_start,train_stop)\n",
        "\n",
        "# Set range of validation set\n",
        "valid_start, valid_stop = 150000, 150000+valid_size\n",
        "assert valid_stop  >  valid_start\n",
        "assert valid_start >= train_stop\n",
        "X_valid, y_valid = load_data(decays,valid_start,valid_stop)\n",
        "\n",
        "# Set range of test set\n",
        "test_start, test_stop = 180000, 180000+test_size\n",
        "assert test_stop  >  test_start\n",
        "assert test_start >= valid_stop\n",
        "X_test, y_test = load_data(decays,test_start,test_stop)\n",
        "\n",
        "samples_requested = len(decays) * (train_size + valid_size + test_size)\n",
        "samples_available = len(y_train) + len(y_valid) + len(y_test)\n",
        "assert samples_requested == samples_available"
      ],
      "execution_count": null,
      "outputs": [
        {
          "output_type": "stream",
          "text": [
            "/usr/local/lib/python3.6/dist-packages/ipykernel_launcher.py:7: H5pyDeprecationWarning: The default file mode will change to 'r' (read-only) in h5py 3.0. To suppress this warning, pass the mode you need to h5py.File(), or set the global default h5.get_config().default_file_mode, or set the environment variable H5PY_DEFAULT_READONLY=1. Available modes are: 'r', 'r+', 'w', 'w-'/'x', 'a'. See the docs for details.\n",
            "  import sys\n"
          ],
          "name": "stderr"
        }
      ]
    },
    {
      "cell_type": "markdown",
      "metadata": {
        "id": "ke_NQLiz83jZ"
      },
      "source": [
        "# Our CNN Model"
      ]
    },
    {
      "cell_type": "code",
      "metadata": {
        "id": "OlIJuxXG7KDk",
        "outputId": "644633f0-4020-4968-95f2-a259bab68558",
        "colab": {
          "base_uri": "https://localhost:8080/"
        }
      },
      "source": [
        "### Define Convolutional Neural Network (CNN) Model ###\n",
        "\n",
        "model = Sequential()\n",
        "#initializer = keras.initializers.TruncatedNormal(mean=0.0, stddev=0.1, seed=None)\n",
        "model.add(Conv2D(32, activation='relu', kernel_size=3, padding='same', kernel_initializer='TruncatedNormal', input_shape=(img_rows, img_cols, 1)))\n",
        "#model.add(Conv2D(32, activation='relu', kernel_size=3, padding='same', kernel_initializer='TruncatedNormal'))\n",
        "model.add(MaxPooling2D(pool_size=(2, 2)))\n",
        "model.add(Conv2D(32, activation='relu', kernel_size=3, padding='same', kernel_initializer='TruncatedNormal'))\n",
        "model.add(MaxPooling2D(pool_size=(2, 2)))\n",
        "model.add(Conv2D(64, activation = 'relu', kernel_size=3, padding = 'same', kernel_initializer='TruncatedNormal'))\n",
        "model.add(MaxPooling2D(pool_size=(2, 2)))\n",
        "model.add(Flatten())\n",
        "model.add(Dense(256, activation='relu', kernel_initializer='TruncatedNormal'))\n",
        "model.add(Dropout(0.2))\n",
        "model.add(Dense(128, activation='relu', kernel_initializer='TruncatedNormal'))\n",
        "model.add(Dropout(0.2))\n",
        "model.add(Dense(1, activation='sigmoid', kernel_initializer='TruncatedNormal'))\n",
        "model.compile(loss='binary_crossentropy', optimizer=Nadam(lr=lr_init), metrics=['accuracy'])\n",
        "model.summary()"
      ],
      "execution_count": null,
      "outputs": [
        {
          "output_type": "stream",
          "text": [
            "Model: \"sequential\"\n",
            "_________________________________________________________________\n",
            "Layer (type)                 Output Shape              Param #   \n",
            "=================================================================\n",
            "conv2d (Conv2D)              (None, 32, 32, 32)        320       \n",
            "_________________________________________________________________\n",
            "max_pooling2d (MaxPooling2D) (None, 16, 16, 32)        0         \n",
            "_________________________________________________________________\n",
            "conv2d_1 (Conv2D)            (None, 16, 16, 32)        9248      \n",
            "_________________________________________________________________\n",
            "max_pooling2d_1 (MaxPooling2 (None, 8, 8, 32)          0         \n",
            "_________________________________________________________________\n",
            "conv2d_2 (Conv2D)            (None, 8, 8, 64)          18496     \n",
            "_________________________________________________________________\n",
            "max_pooling2d_2 (MaxPooling2 (None, 4, 4, 64)          0         \n",
            "_________________________________________________________________\n",
            "flatten (Flatten)            (None, 1024)              0         \n",
            "_________________________________________________________________\n",
            "dense (Dense)                (None, 256)               262400    \n",
            "_________________________________________________________________\n",
            "dropout (Dropout)            (None, 256)               0         \n",
            "_________________________________________________________________\n",
            "dense_1 (Dense)              (None, 128)               32896     \n",
            "_________________________________________________________________\n",
            "dropout_1 (Dropout)          (None, 128)               0         \n",
            "_________________________________________________________________\n",
            "dense_2 (Dense)              (None, 1)                 129       \n",
            "=================================================================\n",
            "Total params: 323,489\n",
            "Trainable params: 323,489\n",
            "Non-trainable params: 0\n",
            "_________________________________________________________________\n"
          ],
          "name": "stdout"
        }
      ]
    },
    {
      "cell_type": "markdown",
      "metadata": {
        "id": "bsQWFD0M86pA"
      },
      "source": [
        "## Train the Model"
      ]
    },
    {
      "cell_type": "code",
      "metadata": {
        "id": "ZGuyM25L7uc0",
        "outputId": "2859b201-84e6-4292-c503-c09fe86dc253",
        "colab": {
          "base_uri": "https://localhost:8080/"
        }
      },
      "source": [
        "reduce_lr = ReduceLROnPlateau(monitor='val_loss', factor=0.2, patience=2, min_lr=1.e-6)\n",
        "history=model.fit(X_train, y_train,\\\n",
        "        batch_size=batch_size,\\\n",
        "        epochs=epochs+10,\\\n",
        "        validation_data=(X_valid, y_valid),\\\n",
        "        callbacks=[reduce_lr],\\\n",
        "        verbose=1, shuffle=True)"
      ],
      "execution_count": null,
      "outputs": [
        {
          "output_type": "stream",
          "text": [
            "Epoch 1/35\n",
            "4096/4096 [==============================] - 19s 5ms/step - loss: 0.6061 - accuracy: 0.6768 - val_loss: 0.5761 - val_accuracy: 0.7045\n",
            "Epoch 2/35\n",
            "4096/4096 [==============================] - 19s 5ms/step - loss: 0.5758 - accuracy: 0.7079 - val_loss: 0.5638 - val_accuracy: 0.7120\n",
            "Epoch 3/35\n",
            "4096/4096 [==============================] - 19s 5ms/step - loss: 0.5682 - accuracy: 0.7139 - val_loss: 0.5620 - val_accuracy: 0.7164\n",
            "Epoch 4/35\n",
            "4096/4096 [==============================] - 19s 5ms/step - loss: 0.5635 - accuracy: 0.7179 - val_loss: 0.5572 - val_accuracy: 0.7184\n",
            "Epoch 5/35\n",
            "4096/4096 [==============================] - 19s 5ms/step - loss: 0.5600 - accuracy: 0.7202 - val_loss: 0.5553 - val_accuracy: 0.7178\n",
            "Epoch 6/35\n",
            "4096/4096 [==============================] - 19s 5ms/step - loss: 0.5579 - accuracy: 0.7217 - val_loss: 0.5538 - val_accuracy: 0.7251\n",
            "Epoch 7/35\n",
            "4096/4096 [==============================] - 19s 5ms/step - loss: 0.5559 - accuracy: 0.7232 - val_loss: 0.5598 - val_accuracy: 0.7197\n",
            "Epoch 8/35\n",
            "4096/4096 [==============================] - 19s 5ms/step - loss: 0.5542 - accuracy: 0.7242 - val_loss: 0.5538 - val_accuracy: 0.7195\n",
            "Epoch 9/35\n",
            "4096/4096 [==============================] - 19s 5ms/step - loss: 0.5458 - accuracy: 0.7301 - val_loss: 0.5453 - val_accuracy: 0.7297\n",
            "Epoch 10/35\n",
            "4096/4096 [==============================] - 18s 4ms/step - loss: 0.5442 - accuracy: 0.7309 - val_loss: 0.5474 - val_accuracy: 0.7245\n",
            "Epoch 11/35\n",
            "4096/4096 [==============================] - 20s 5ms/step - loss: 0.5432 - accuracy: 0.7313 - val_loss: 0.5473 - val_accuracy: 0.7214\n",
            "Epoch 12/35\n",
            "4096/4096 [==============================] - 19s 5ms/step - loss: 0.5406 - accuracy: 0.7327 - val_loss: 0.5443 - val_accuracy: 0.7277\n",
            "Epoch 13/35\n",
            "4096/4096 [==============================] - 19s 5ms/step - loss: 0.5404 - accuracy: 0.7332 - val_loss: 0.5440 - val_accuracy: 0.7280\n",
            "Epoch 14/35\n",
            "4096/4096 [==============================] - 19s 5ms/step - loss: 0.5400 - accuracy: 0.7334 - val_loss: 0.5438 - val_accuracy: 0.7288\n",
            "Epoch 15/35\n",
            "4096/4096 [==============================] - 19s 5ms/step - loss: 0.5398 - accuracy: 0.7333 - val_loss: 0.5437 - val_accuracy: 0.7285\n",
            "Epoch 16/35\n",
            "4096/4096 [==============================] - 19s 5ms/step - loss: 0.5397 - accuracy: 0.7337 - val_loss: 0.5438 - val_accuracy: 0.7285\n",
            "Epoch 17/35\n",
            "4096/4096 [==============================] - 19s 5ms/step - loss: 0.5392 - accuracy: 0.7343 - val_loss: 0.5438 - val_accuracy: 0.7272\n",
            "Epoch 18/35\n",
            "4096/4096 [==============================] - 19s 5ms/step - loss: 0.5388 - accuracy: 0.7343 - val_loss: 0.5437 - val_accuracy: 0.7280\n",
            "Epoch 19/35\n",
            "4096/4096 [==============================] - 19s 5ms/step - loss: 0.5390 - accuracy: 0.7343 - val_loss: 0.5436 - val_accuracy: 0.7267\n",
            "Epoch 20/35\n",
            "4096/4096 [==============================] - 19s 5ms/step - loss: 0.5389 - accuracy: 0.7338 - val_loss: 0.5437 - val_accuracy: 0.7275\n",
            "Epoch 21/35\n",
            "4096/4096 [==============================] - 19s 5ms/step - loss: 0.5390 - accuracy: 0.7344 - val_loss: 0.5436 - val_accuracy: 0.7285\n",
            "Epoch 22/35\n",
            "4096/4096 [==============================] - 19s 5ms/step - loss: 0.5388 - accuracy: 0.7345 - val_loss: 0.5436 - val_accuracy: 0.7286\n",
            "Epoch 23/35\n",
            "4096/4096 [==============================] - 19s 5ms/step - loss: 0.5386 - accuracy: 0.7344 - val_loss: 0.5436 - val_accuracy: 0.7286\n",
            "Epoch 24/35\n",
            "4096/4096 [==============================] - 19s 5ms/step - loss: 0.5389 - accuracy: 0.7343 - val_loss: 0.5436 - val_accuracy: 0.7284\n",
            "Epoch 25/35\n",
            "4096/4096 [==============================] - 20s 5ms/step - loss: 0.5388 - accuracy: 0.7343 - val_loss: 0.5436 - val_accuracy: 0.7286\n",
            "Epoch 26/35\n",
            "4096/4096 [==============================] - 19s 5ms/step - loss: 0.5387 - accuracy: 0.7347 - val_loss: 0.5436 - val_accuracy: 0.7284\n",
            "Epoch 27/35\n",
            "4096/4096 [==============================] - 19s 5ms/step - loss: 0.5388 - accuracy: 0.7344 - val_loss: 0.5436 - val_accuracy: 0.7292\n",
            "Epoch 28/35\n",
            "4096/4096 [==============================] - 19s 5ms/step - loss: 0.5388 - accuracy: 0.7342 - val_loss: 0.5436 - val_accuracy: 0.7283\n",
            "Epoch 29/35\n",
            "4096/4096 [==============================] - 19s 5ms/step - loss: 0.5386 - accuracy: 0.7343 - val_loss: 0.5436 - val_accuracy: 0.7292\n",
            "Epoch 30/35\n",
            "4096/4096 [==============================] - 19s 5ms/step - loss: 0.5386 - accuracy: 0.7345 - val_loss: 0.5436 - val_accuracy: 0.7285\n",
            "Epoch 31/35\n",
            "4096/4096 [==============================] - 19s 5ms/step - loss: 0.5387 - accuracy: 0.7341 - val_loss: 0.5436 - val_accuracy: 0.7286\n",
            "Epoch 32/35\n",
            "4096/4096 [==============================] - 19s 5ms/step - loss: 0.5387 - accuracy: 0.7340 - val_loss: 0.5436 - val_accuracy: 0.7279\n",
            "Epoch 33/35\n",
            "4096/4096 [==============================] - 19s 5ms/step - loss: 0.5386 - accuracy: 0.7341 - val_loss: 0.5436 - val_accuracy: 0.7288\n",
            "Epoch 34/35\n",
            "4096/4096 [==============================] - 19s 5ms/step - loss: 0.5387 - accuracy: 0.7341 - val_loss: 0.5436 - val_accuracy: 0.7290\n",
            "Epoch 35/35\n",
            "4096/4096 [==============================] - 19s 5ms/step - loss: 0.5388 - accuracy: 0.7347 - val_loss: 0.5436 - val_accuracy: 0.7278\n"
          ],
          "name": "stdout"
        }
      ]
    },
    {
      "cell_type": "markdown",
      "metadata": {
        "id": "oLoN43278_-j"
      },
      "source": [
        "## Evaluate the Model  \n",
        "### Along with the model accuracy, the prefered metric for evaluation is ROC (Receiver Operating Characteristic) curve and the AUC score (Area under the ROC Curve)."
      ]
    },
    {
      "cell_type": "code",
      "metadata": {
        "id": "ekuQLYas7xh5",
        "outputId": "85476915-2b94-46f2-a73c-98b7b03279d8",
        "colab": {
          "base_uri": "https://localhost:8080/",
          "height": 236
        }
      },
      "source": [
        "# Evaluate on validation set\n",
        "score = model.evaluate(X_valid, y_valid, verbose=1)\n",
        "print('\\nValidation loss / accuracy: %0.4f / %0.4f'%(score[0], score[1]))\n",
        "y_pred = model.predict(X_valid)\n",
        "fpr, tpr, _ = roc_curve(y_valid, y_pred)\n",
        "roc_auc = auc(fpr, tpr)\n",
        "print('Validation ROC AUC:', roc_auc)\n",
        "\n",
        "# Evaluate on test set\n",
        "score = model.evaluate(X_test, y_test, verbose=1)\n",
        "print('\\nTest loss / accuracy: %0.4f / %0.4f'%(score[0], score[1]))\n",
        "y_pred = model.predict(X_test)\n",
        "fpr, tpr, _ = roc_curve(y_test, y_pred)\n",
        "roc_auc = auc(fpr, tpr)\n",
        "print('Test ROC AUC:', roc_auc)"
      ],
      "execution_count": null,
      "outputs": [
        {
          "output_type": "error",
          "ename": "NameError",
          "evalue": "ignored",
          "traceback": [
            "\u001b[0;31m---------------------------------------------------------------------------\u001b[0m",
            "\u001b[0;31mNameError\u001b[0m                                 Traceback (most recent call last)",
            "\u001b[0;32m<ipython-input-1-3bcbf576fec3>\u001b[0m in \u001b[0;36m<module>\u001b[0;34m()\u001b[0m\n\u001b[1;32m      1\u001b[0m \u001b[0;31m# Evaluate on validation set\u001b[0m\u001b[0;34m\u001b[0m\u001b[0;34m\u001b[0m\u001b[0;34m\u001b[0m\u001b[0m\n\u001b[0;32m----> 2\u001b[0;31m \u001b[0mscore\u001b[0m \u001b[0;34m=\u001b[0m \u001b[0mmodel\u001b[0m\u001b[0;34m.\u001b[0m\u001b[0mevaluate\u001b[0m\u001b[0;34m(\u001b[0m\u001b[0mX_valid\u001b[0m\u001b[0;34m,\u001b[0m \u001b[0my_valid\u001b[0m\u001b[0;34m,\u001b[0m \u001b[0mverbose\u001b[0m\u001b[0;34m=\u001b[0m\u001b[0;36m1\u001b[0m\u001b[0;34m)\u001b[0m\u001b[0;34m\u001b[0m\u001b[0;34m\u001b[0m\u001b[0m\n\u001b[0m\u001b[1;32m      3\u001b[0m \u001b[0mprint\u001b[0m\u001b[0;34m(\u001b[0m\u001b[0;34m'\\nValidation loss / accuracy: %0.4f / %0.4f'\u001b[0m\u001b[0;34m%\u001b[0m\u001b[0;34m(\u001b[0m\u001b[0mscore\u001b[0m\u001b[0;34m[\u001b[0m\u001b[0;36m0\u001b[0m\u001b[0;34m]\u001b[0m\u001b[0;34m,\u001b[0m \u001b[0mscore\u001b[0m\u001b[0;34m[\u001b[0m\u001b[0;36m1\u001b[0m\u001b[0;34m]\u001b[0m\u001b[0;34m)\u001b[0m\u001b[0;34m)\u001b[0m\u001b[0;34m\u001b[0m\u001b[0;34m\u001b[0m\u001b[0m\n\u001b[1;32m      4\u001b[0m \u001b[0my_pred\u001b[0m \u001b[0;34m=\u001b[0m \u001b[0mmodel\u001b[0m\u001b[0;34m.\u001b[0m\u001b[0mpredict\u001b[0m\u001b[0;34m(\u001b[0m\u001b[0mX_valid\u001b[0m\u001b[0;34m)\u001b[0m\u001b[0;34m\u001b[0m\u001b[0;34m\u001b[0m\u001b[0m\n\u001b[1;32m      5\u001b[0m \u001b[0mfpr\u001b[0m\u001b[0;34m,\u001b[0m \u001b[0mtpr\u001b[0m\u001b[0;34m,\u001b[0m \u001b[0m_\u001b[0m \u001b[0;34m=\u001b[0m \u001b[0mroc_curve\u001b[0m\u001b[0;34m(\u001b[0m\u001b[0my_valid\u001b[0m\u001b[0;34m,\u001b[0m \u001b[0my_pred\u001b[0m\u001b[0;34m)\u001b[0m\u001b[0;34m\u001b[0m\u001b[0;34m\u001b[0m\u001b[0m\n",
            "\u001b[0;31mNameError\u001b[0m: name 'model' is not defined"
          ]
        }
      ]
    },
    {
      "cell_type": "code",
      "metadata": {
        "id": "kmSRYI0R72Wn",
        "outputId": "6f0ce2d0-c79f-4712-c89e-7052bd9d23d2",
        "colab": {
          "base_uri": "https://localhost:8080/",
          "height": 295
        }
      },
      "source": [
        "plt.plot([0, 1], [0, 1], 'k--')\n",
        "#plt.legend(loc=2, prop={'size': 15})\n",
        "plt.plot(fpr, tpr, label='Model 1 (ROC-AUC = {:.3f})'.format(roc_auc))\n",
        "plt.xlabel('False positive rate')\n",
        "plt.ylabel('True positive rate')\n",
        "plt.title('ROC curve')\n",
        "plt.legend(loc='best')\n",
        "plt.show()"
      ],
      "execution_count": null,
      "outputs": [
        {
          "output_type": "display_data",
          "data": {
            "image/png": "[encoded data removed]",
            "text/plain": [
              "<Figure size 432x288 with 1 Axes>"
            ]
          },
          "metadata": {
            "tags": [],
            "needs_background": "light"
          }
        }
      ]
    },
    {
      "cell_type": "code",
      "metadata": {
        "id": "Jx383RL9nFBe"
      },
      "source": [
        "model.save_weights('weights.h5')"
      ],
      "execution_count": null,
      "outputs": []
    },
    {
      "cell_type": "markdown",
      "metadata": {
        "id": "Nna7GkM45Y5w"
      },
      "source": [
        "# Submission format: \n",
        "### Please submit the Google Colab Jupyter Notebook demonstrating your solution in the similar format as illustrated in this notebook. It should contain :\n",
        "*   The final model architecture, parameters and hyper-parameters yielding the best possible performance,\n",
        "*   Its Training and Validation accuracy, \n",
        "*   ROC curve and the AUC score as shown above.\n",
        "*   Also, please submit the final trained model containing the model architecture and its trained weights along with this notebook (For example: HDF5 file, .pb file, .pt file, etc.). You are free to choose Machine Learning Framework of your choice. "
      ]
    },
    {
      "cell_type": "code",
      "metadata": {
        "id": "ek82eKnpBuI8"
      },
      "source": [
        ""
      ],
      "execution_count": null,
      "outputs": []
    }
  ]
}