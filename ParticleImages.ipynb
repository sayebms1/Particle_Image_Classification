{
  "nbformat": 4,
  "nbformat_minor": 0,
  "metadata": {
    "colab": {
      "name": "Copy of ParticleImages.ipynb",
      "provenance": [],
      "collapsed_sections": [],
      "toc_visible": true
    },
    "kernelspec": {
      "name": "python3",
      "display_name": "Python 3"
    },
    "accelerator": "GPU"
  },
  "cells": [
    {
      "cell_type": "markdown",
      "metadata": {
        "id": "P3DtjEbf8M4I"
      },
      "source": [
        "# Hackathon - Particle Images\n",
        "## Team members: Yaqi Han, Mohammad Sayeb\n",
        "\n"
      ]
    },
    {
      "cell_type": "markdown",
      "metadata": {
        "id": "g0b6SRpWl2Xh"
      },
      "source": [
        "## Create the appropriate project folder "
      ]
    },
    {
      "cell_type": "code",
      "metadata": {
        "id": "OYRULwKaw_A6"
      },
      "source": [
        "mkdir Particle_Images"
      ],
      "execution_count": 1,
      "outputs": []
    },
    {
      "cell_type": "code",
      "metadata": {
        "id": "at-4-Xub8DYW",
        "colab": {
          "base_uri": "https://localhost:8080/"
        },
        "outputId": "af804eb2-10c8-4faa-9756-663ddcd2079f"
      },
      "source": [
        "cd Particle_Images"
      ],
      "execution_count": 2,
      "outputs": [
        {
          "output_type": "stream",
          "text": [
            "/content/Particle_Images\n"
          ],
          "name": "stdout"
        }
      ]
    },
    {
      "cell_type": "code",
      "metadata": {
        "id": "BQGKM10j2CiQ"
      },
      "source": [
        "mkdir data/"
      ],
      "execution_count": 3,
      "outputs": []
    },
    {
      "cell_type": "markdown",
      "metadata": {
        "id": "PEtRyfNv9XVn"
      },
      "source": [
        "# Download the Dataset"
      ]
    },
    {
      "cell_type": "code",
      "metadata": {
        "id": "rcK1wY4Qt_7Y",
        "colab": {
          "base_uri": "https://localhost:8080/"
        },
        "outputId": "9f29117a-7a89-4c4a-fc6c-06ebc32308f8"
      },
      "source": [
        "#!/bin/bash\n",
        "!wget https://cernbox.cern.ch/index.php/s/sHjzCNFTFxutYCj/download -O data/SingleElectronPt50_IMGCROPS_n249k_RHv1.hdf5\n",
        "!wget https://cernbox.cern.ch/index.php/s/69nGEZjOy3xGxBq/download -O data/SinglePhotonPt50_IMGCROPS_n249k_RHv1.hdf5"
      ],
      "execution_count": 4,
      "outputs": [
        {
          "output_type": "stream",
          "text": [
            "--2020-11-18 19:49:11--  https://cernbox.cern.ch/index.php/s/sHjzCNFTFxutYCj/download\n",
            "Resolving cernbox.cern.ch (cernbox.cern.ch)... 128.142.53.35, 188.184.97.72, 128.142.170.17, ...\n",
            "Connecting to cernbox.cern.ch (cernbox.cern.ch)|128.142.53.35|:443... connected.\n",
            "HTTP request sent, awaiting response... 200 OK\n",
            "Length: 87010508 (83M) [application/octet-stream]\n",
            "Saving to: ‘data/SingleElectronPt50_IMGCROPS_n249k_RHv1.hdf5’\n",
            "\n",
            "data/SingleElectron 100%[===================>]  82.98M  10.5MB/s    in 9.9s    \n",
            "\n",
            "Last-modified header invalid -- time-stamp ignored.\n",
            "2020-11-18 19:49:26 (8.36 MB/s) - ‘data/SingleElectronPt50_IMGCROPS_n249k_RHv1.hdf5’ saved [87010508/87010508]\n",
            "\n",
            "--2020-11-18 19:49:26--  https://cernbox.cern.ch/index.php/s/69nGEZjOy3xGxBq/download\n",
            "Resolving cernbox.cern.ch (cernbox.cern.ch)... 128.142.170.17, 128.142.53.35, 188.184.97.72, ...\n",
            "Connecting to cernbox.cern.ch (cernbox.cern.ch)|128.142.170.17|:443... connected.\n",
            "HTTP request sent, awaiting response... 200 OK\n",
            "Length: 79876391 (76M) [application/octet-stream]\n",
            "Saving to: ‘data/SinglePhotonPt50_IMGCROPS_n249k_RHv1.hdf5’\n",
            "\n",
            "data/SinglePhotonPt 100%[===================>]  76.18M  8.84MB/s    in 10s     \n",
            "\n",
            "Last-modified header invalid -- time-stamp ignored.\n",
            "2020-11-18 19:49:39 (7.27 MB/s) - ‘data/SinglePhotonPt50_IMGCROPS_n249k_RHv1.hdf5’ saved [79876391/79876391]\n",
            "\n"
          ],
          "name": "stdout"
        }
      ]
    },
    {
      "cell_type": "markdown",
      "metadata": {
        "id": "BepRE7pn8Du7"
      },
      "source": [
        "# Import modules"
      ]
    },
    {
      "cell_type": "code",
      "metadata": {
        "id": "ZnLzC5paz0hb"
      },
      "source": [
        "import numpy as np\n",
        "np.random.seed(1337)  # for reproducibility\n",
        "import h5py\n",
        "from keras.models import Sequential\n",
        "from keras.optimizers import Adam, Nadam\n",
        "from keras.initializers import TruncatedNormal\n",
        "from keras.layers import Input, Dense, Dropout, Flatten, Conv2D, MaxPooling2D\n",
        "from keras.callbacks import ReduceLROnPlateau\n",
        "\n",
        "from sklearn.metrics import roc_curve, auc\n",
        "\n",
        "import matplotlib.pyplot as plt"
      ],
      "execution_count": 5,
      "outputs": []
    },
    {
      "cell_type": "markdown",
      "metadata": {
        "id": "Az_MoJwZ8K6l"
      },
      "source": [
        "# Keras Model Parameters"
      ]
    },
    {
      "cell_type": "code",
      "metadata": {
        "id": "ZzF8AHl_4yUA"
      },
      "source": [
        "lr_init     = 1.e-3    # Initial learning rate  \n",
        "batch_size  = 64       # Training batch size\n",
        "train_size  = 131072     # Training size\n",
        "valid_size  = 4096     # Validation size\n",
        "test_size   = 16384     # Test size\n",
        "epochs      = 25       # Number of epochs\n",
        "doGPU       = False    # Use GPU"
      ],
      "execution_count": 6,
      "outputs": []
    },
    {
      "cell_type": "markdown",
      "metadata": {
        "id": "_jX_l-WmplJx"
      },
      "source": [
        "## It is recommended to use GPU for training and inference if possible."
      ]
    },
    {
      "cell_type": "code",
      "metadata": {
        "id": "PVq1XGr640nJ"
      },
      "source": [
        "if doGPU:\n",
        "    import tensorflow as tf\n",
        "    from keras.backend.tensorflow_backend import set_session\n",
        "    config = tf.ConfigProto()\n",
        "    config.gpu_options.allow_growth=True\n",
        "    set_session(tf.Session(config=config))"
      ],
      "execution_count": 7,
      "outputs": []
    },
    {
      "cell_type": "markdown",
      "metadata": {
        "id": "xwc56kXJ8TLo"
      },
      "source": [
        "## We are only using the particle energy channel"
      ]
    },
    {
      "cell_type": "code",
      "metadata": {
        "id": "kr4QIMlt424u"
      },
      "source": [
        "img_rows, img_cols, nb_channels = 32, 32, 2        \n",
        "input_dir = 'data'\n",
        "decays = ['SinglePhotonPt50_IMGCROPS_n249k_RHv1', 'SingleElectronPt50_IMGCROPS_n249k_RHv1']\n",
        "\n",
        "def load_data(decays, start, stop):\n",
        "    global input_dir\n",
        "    dsets = [h5py.File('%s/%s.hdf5'%(input_dir,decay)) for decay in decays]\n",
        "    X = np.concatenate([dset['/X'][start:stop] for dset in dsets])\n",
        "    y = np.concatenate([dset['/y'][start:stop] for dset in dsets])\n",
        "    X = X[:,:,:,0].reshape((X.shape[0],X.shape[1],X.shape[2],1))\n",
        "    assert len(X) == len(y)\n",
        "    return X, y"
      ],
      "execution_count": 8,
      "outputs": []
    },
    {
      "cell_type": "markdown",
      "metadata": {
        "id": "-JpHCOf38fDL"
      },
      "source": [
        "# Configure Training / Validation / Test Sets"
      ]
    },
    {
      "cell_type": "code",
      "metadata": {
        "id": "-RTXS58x46Fq",
        "colab": {
          "base_uri": "https://localhost:8080/"
        },
        "outputId": "9bbf4919-0e4a-465c-bc24-13b39f05de12"
      },
      "source": [
        "# Set range of training set\n",
        "train_start, train_stop = 0, train_size\n",
        "assert train_stop > train_start\n",
        "assert (len(decays)*train_size) % batch_size == 0\n",
        "X_train, y_train = load_data(decays,train_start,train_stop)\n",
        "\n",
        "# Set range of validation set\n",
        "valid_start, valid_stop = 150000, 150000+valid_size\n",
        "assert valid_stop  >  valid_start\n",
        "assert valid_start >= train_stop\n",
        "X_valid, y_valid = load_data(decays,valid_start,valid_stop)\n",
        "\n",
        "# Set range of test set\n",
        "test_start, test_stop = 180000, 180000+test_size\n",
        "assert test_stop  >  test_start\n",
        "assert test_start >= valid_stop\n",
        "X_test, y_test = load_data(decays,test_start,test_stop)\n",
        "\n",
        "samples_requested = len(decays) * (train_size + valid_size + test_size)\n",
        "samples_available = len(y_train) + len(y_valid) + len(y_test)\n",
        "assert samples_requested == samples_available"
      ],
      "execution_count": 9,
      "outputs": [
        {
          "output_type": "stream",
          "text": [
            "/usr/local/lib/python3.6/dist-packages/ipykernel_launcher.py:7: H5pyDeprecationWarning: The default file mode will change to 'r' (read-only) in h5py 3.0. To suppress this warning, pass the mode you need to h5py.File(), or set the global default h5.get_config().default_file_mode, or set the environment variable H5PY_DEFAULT_READONLY=1. Available modes are: 'r', 'r+', 'w', 'w-'/'x', 'a'. See the docs for details.\n",
            "  import sys\n"
          ],
          "name": "stderr"
        }
      ]
    },
    {
      "cell_type": "markdown",
      "metadata": {
        "id": "ke_NQLiz83jZ"
      },
      "source": [
        "# Our CNN Model"
      ]
    },
    {
      "cell_type": "code",
      "metadata": {
        "id": "OlIJuxXG7KDk",
        "colab": {
          "base_uri": "https://localhost:8080/"
        },
        "outputId": "e1520e08-896d-423f-9128-14ad5925ce98"
      },
      "source": [
        "### Define Convolutional Neural Network (CNN) Model ###\n",
        "\n",
        "model = Sequential()\n",
        "#initializer = keras.initializers.TruncatedNormal(mean=0.0, stddev=0.1, seed=None)\n",
        "model.add(Conv2D(32, activation='relu', kernel_size=3, padding='same', kernel_initializer='TruncatedNormal', input_shape=(img_rows, img_cols, 1)))\n",
        "#model.add(Conv2D(32, activation='relu', kernel_size=3, padding='same', kernel_initializer='TruncatedNormal'))\n",
        "model.add(MaxPooling2D(pool_size=(2, 2)))\n",
        "model.add(Conv2D(32, activation='relu', kernel_size=3, padding='same', kernel_initializer='TruncatedNormal'))\n",
        "model.add(MaxPooling2D(pool_size=(2, 2)))\n",
        "model.add(Conv2D(64, activation = 'relu', kernel_size=3, padding = 'same', kernel_initializer='TruncatedNormal'))\n",
        "model.add(MaxPooling2D(pool_size=(2, 2)))\n",
        "model.add(Flatten())\n",
        "model.add(Dense(256, activation='relu', kernel_initializer='TruncatedNormal'))\n",
        "model.add(Dropout(0.2))\n",
        "model.add(Dense(128, activation='relu', kernel_initializer='TruncatedNormal'))\n",
        "model.add(Dropout(0.2))\n",
        "model.add(Dense(1, activation='sigmoid', kernel_initializer='TruncatedNormal'))\n",
        "model.compile(loss='binary_crossentropy', optimizer=Nadam(lr=lr_init), metrics=['accuracy'])\n",
        "model.summary()"
      ],
      "execution_count": 10,
      "outputs": [
        {
          "output_type": "stream",
          "text": [
            "Model: \"sequential\"\n",
            "_________________________________________________________________\n",
            "Layer (type)                 Output Shape              Param #   \n",
            "=================================================================\n",
            "conv2d (Conv2D)              (None, 32, 32, 32)        320       \n",
            "_________________________________________________________________\n",
            "max_pooling2d (MaxPooling2D) (None, 16, 16, 32)        0         \n",
            "_________________________________________________________________\n",
            "conv2d_1 (Conv2D)            (None, 16, 16, 32)        9248      \n",
            "_________________________________________________________________\n",
            "max_pooling2d_1 (MaxPooling2 (None, 8, 8, 32)          0         \n",
            "_________________________________________________________________\n",
            "conv2d_2 (Conv2D)            (None, 8, 8, 64)          18496     \n",
            "_________________________________________________________________\n",
            "max_pooling2d_2 (MaxPooling2 (None, 4, 4, 64)          0         \n",
            "_________________________________________________________________\n",
            "flatten (Flatten)            (None, 1024)              0         \n",
            "_________________________________________________________________\n",
            "dense (Dense)                (None, 256)               262400    \n",
            "_________________________________________________________________\n",
            "dropout (Dropout)            (None, 256)               0         \n",
            "_________________________________________________________________\n",
            "dense_1 (Dense)              (None, 128)               32896     \n",
            "_________________________________________________________________\n",
            "dropout_1 (Dropout)          (None, 128)               0         \n",
            "_________________________________________________________________\n",
            "dense_2 (Dense)              (None, 1)                 129       \n",
            "=================================================================\n",
            "Total params: 323,489\n",
            "Trainable params: 323,489\n",
            "Non-trainable params: 0\n",
            "_________________________________________________________________\n"
          ],
          "name": "stdout"
        }
      ]
    },
    {
      "cell_type": "markdown",
      "metadata": {
        "id": "bsQWFD0M86pA"
      },
      "source": [
        "## Train the Model"
      ]
    },
    {
      "cell_type": "code",
      "metadata": {
        "id": "ZGuyM25L7uc0",
        "colab": {
          "base_uri": "https://localhost:8080/"
        },
        "outputId": "6bd7dac8-8e1f-423c-e175-74b673150d01"
      },
      "source": [
        "reduce_lr = ReduceLROnPlateau(monitor='val_loss', factor=0.2, patience=2, min_lr=1.e-6)\n",
        "history=model.fit(X_train, y_train,\\\n",
        "        batch_size=batch_size,\\\n",
        "        epochs=epochs+10,\\\n",
        "        validation_data=(X_valid, y_valid),\\\n",
        "        callbacks=[reduce_lr],\\\n",
        "        verbose=1, shuffle=True)"
      ],
      "execution_count": 11,
      "outputs": [
        {
          "output_type": "stream",
          "text": [
            "Epoch 1/35\n",
            "4096/4096 [==============================] - 16s 4ms/step - loss: 0.6061 - accuracy: 0.6757 - val_loss: 0.5884 - val_accuracy: 0.6942\n",
            "Epoch 2/35\n",
            "4096/4096 [==============================] - 16s 4ms/step - loss: 0.5728 - accuracy: 0.7112 - val_loss: 0.5686 - val_accuracy: 0.7100\n",
            "Epoch 3/35\n",
            "4096/4096 [==============================] - 16s 4ms/step - loss: 0.5648 - accuracy: 0.7178 - val_loss: 0.5629 - val_accuracy: 0.7125\n",
            "Epoch 4/35\n",
            "4096/4096 [==============================] - 16s 4ms/step - loss: 0.5600 - accuracy: 0.7208 - val_loss: 0.5616 - val_accuracy: 0.7118\n",
            "Epoch 5/35\n",
            "4096/4096 [==============================] - 16s 4ms/step - loss: 0.5572 - accuracy: 0.7228 - val_loss: 0.5551 - val_accuracy: 0.7195\n",
            "Epoch 6/35\n",
            "4096/4096 [==============================] - 16s 4ms/step - loss: 0.5552 - accuracy: 0.7244 - val_loss: 0.5553 - val_accuracy: 0.7225\n",
            "Epoch 7/35\n",
            "4096/4096 [==============================] - 16s 4ms/step - loss: 0.5535 - accuracy: 0.7250 - val_loss: 0.5534 - val_accuracy: 0.7216\n",
            "Epoch 8/35\n",
            "4096/4096 [==============================] - 16s 4ms/step - loss: 0.5521 - accuracy: 0.7259 - val_loss: 0.5525 - val_accuracy: 0.7246\n",
            "Epoch 9/35\n",
            "4096/4096 [==============================] - 17s 4ms/step - loss: 0.5508 - accuracy: 0.7279 - val_loss: 0.5520 - val_accuracy: 0.7188\n",
            "Epoch 10/35\n",
            "4096/4096 [==============================] - 16s 4ms/step - loss: 0.5495 - accuracy: 0.7284 - val_loss: 0.5523 - val_accuracy: 0.7224\n",
            "Epoch 11/35\n",
            "4096/4096 [==============================] - 16s 4ms/step - loss: 0.5488 - accuracy: 0.7284 - val_loss: 0.5560 - val_accuracy: 0.7195\n",
            "Epoch 12/35\n",
            "4096/4096 [==============================] - 17s 4ms/step - loss: 0.5408 - accuracy: 0.7341 - val_loss: 0.5459 - val_accuracy: 0.7274\n",
            "Epoch 13/35\n",
            "4096/4096 [==============================] - 16s 4ms/step - loss: 0.5390 - accuracy: 0.7345 - val_loss: 0.5443 - val_accuracy: 0.7305\n",
            "Epoch 14/35\n",
            "4096/4096 [==============================] - 16s 4ms/step - loss: 0.5386 - accuracy: 0.7352 - val_loss: 0.5466 - val_accuracy: 0.7274\n",
            "Epoch 15/35\n",
            "4096/4096 [==============================] - 16s 4ms/step - loss: 0.5379 - accuracy: 0.7355 - val_loss: 0.5450 - val_accuracy: 0.7268\n",
            "Epoch 16/35\n",
            "4096/4096 [==============================] - 16s 4ms/step - loss: 0.5357 - accuracy: 0.7372 - val_loss: 0.5436 - val_accuracy: 0.7305\n",
            "Epoch 17/35\n",
            "4096/4096 [==============================] - 16s 4ms/step - loss: 0.5352 - accuracy: 0.7374 - val_loss: 0.5435 - val_accuracy: 0.7307\n",
            "Epoch 18/35\n",
            "4096/4096 [==============================] - 16s 4ms/step - loss: 0.5348 - accuracy: 0.7372 - val_loss: 0.5437 - val_accuracy: 0.7316\n",
            "Epoch 19/35\n",
            "4096/4096 [==============================] - 16s 4ms/step - loss: 0.5345 - accuracy: 0.7374 - val_loss: 0.5436 - val_accuracy: 0.7307\n",
            "Epoch 20/35\n",
            "4096/4096 [==============================] - 16s 4ms/step - loss: 0.5344 - accuracy: 0.7376 - val_loss: 0.5436 - val_accuracy: 0.7311\n",
            "Epoch 21/35\n",
            "4096/4096 [==============================] - 16s 4ms/step - loss: 0.5344 - accuracy: 0.7378 - val_loss: 0.5435 - val_accuracy: 0.7313\n",
            "Epoch 22/35\n",
            "4096/4096 [==============================] - 16s 4ms/step - loss: 0.5340 - accuracy: 0.7378 - val_loss: 0.5435 - val_accuracy: 0.7314\n",
            "Epoch 23/35\n",
            "4096/4096 [==============================] - 16s 4ms/step - loss: 0.5342 - accuracy: 0.7377 - val_loss: 0.5435 - val_accuracy: 0.7312\n",
            "Epoch 24/35\n",
            "4096/4096 [==============================] - 16s 4ms/step - loss: 0.5342 - accuracy: 0.7379 - val_loss: 0.5435 - val_accuracy: 0.7313\n",
            "Epoch 25/35\n",
            "4096/4096 [==============================] - 16s 4ms/step - loss: 0.5340 - accuracy: 0.7378 - val_loss: 0.5435 - val_accuracy: 0.7312\n",
            "Epoch 26/35\n",
            "4096/4096 [==============================] - 16s 4ms/step - loss: 0.5344 - accuracy: 0.7377 - val_loss: 0.5435 - val_accuracy: 0.7313\n",
            "Epoch 27/35\n",
            "4096/4096 [==============================] - 16s 4ms/step - loss: 0.5342 - accuracy: 0.7383 - val_loss: 0.5435 - val_accuracy: 0.7312\n",
            "Epoch 28/35\n",
            "4096/4096 [==============================] - 17s 4ms/step - loss: 0.5339 - accuracy: 0.7381 - val_loss: 0.5435 - val_accuracy: 0.7312\n",
            "Epoch 29/35\n",
            "4096/4096 [==============================] - 16s 4ms/step - loss: 0.5341 - accuracy: 0.7380 - val_loss: 0.5435 - val_accuracy: 0.7311\n",
            "Epoch 30/35\n",
            "4096/4096 [==============================] - 16s 4ms/step - loss: 0.5341 - accuracy: 0.7376 - val_loss: 0.5435 - val_accuracy: 0.7312\n",
            "Epoch 31/35\n",
            "4096/4096 [==============================] - 16s 4ms/step - loss: 0.5342 - accuracy: 0.7380 - val_loss: 0.5435 - val_accuracy: 0.7312\n",
            "Epoch 32/35\n",
            "4096/4096 [==============================] - 16s 4ms/step - loss: 0.5342 - accuracy: 0.7383 - val_loss: 0.5435 - val_accuracy: 0.7311\n",
            "Epoch 33/35\n",
            "4096/4096 [==============================] - 16s 4ms/step - loss: 0.5343 - accuracy: 0.7382 - val_loss: 0.5435 - val_accuracy: 0.7312\n",
            "Epoch 34/35\n",
            "4096/4096 [==============================] - 16s 4ms/step - loss: 0.5343 - accuracy: 0.7379 - val_loss: 0.5435 - val_accuracy: 0.7314\n",
            "Epoch 35/35\n",
            "4096/4096 [==============================] - 16s 4ms/step - loss: 0.5342 - accuracy: 0.7380 - val_loss: 0.5435 - val_accuracy: 0.7312\n"
          ],
          "name": "stdout"
        }
      ]
    },
    {
      "cell_type": "markdown",
      "metadata": {
        "id": "oLoN43278_-j"
      },
      "source": [
        "## Evaluate the Model  \n",
        "### Along with the model accuracy, the prefered metric for evaluation is ROC (Receiver Operating Characteristic) curve and the AUC score (Area under the ROC Curve)."
      ]
    },
    {
      "cell_type": "code",
      "metadata": {
        "id": "ekuQLYas7xh5",
        "colab": {
          "base_uri": "https://localhost:8080/"
        },
        "outputId": "b5fd8379-6e65-4668-ce5e-43416136fc9a"
      },
      "source": [
        "# Evaluate on validation set\n",
        "score = model.evaluate(X_valid, y_valid, verbose=1)\n",
        "print('\\nValidation loss / accuracy: %0.4f / %0.4f'%(score[0], score[1]))\n",
        "y_pred = model.predict(X_valid)\n",
        "fpr, tpr, _ = roc_curve(y_valid, y_pred)\n",
        "roc_auc = auc(fpr, tpr)\n",
        "print('Validation ROC AUC:', roc_auc)\n",
        "\n",
        "# Evaluate on test set\n",
        "score = model.evaluate(X_test, y_test, verbose=1)\n",
        "print('\\nTest loss / accuracy: %0.4f / %0.4f'%(score[0], score[1]))\n",
        "y_pred = model.predict(X_test)\n",
        "fpr, tpr, _ = roc_curve(y_test, y_pred)\n",
        "roc_auc = auc(fpr, tpr)\n",
        "print('Test ROC AUC:', roc_auc)"
      ],
      "execution_count": 12,
      "outputs": [
        {
          "output_type": "stream",
          "text": [
            "256/256 [==============================] - 0s 2ms/step - loss: 0.5435 - accuracy: 0.7312\n",
            "\n",
            "Validation loss / accuracy: 0.5435 / 0.7312\n",
            "Validation ROC AUC: 0.7990051209926605\n",
            "1024/1024 [==============================] - 2s 2ms/step - loss: 0.5334 - accuracy: 0.7398\n",
            "\n",
            "Test loss / accuracy: 0.5334 / 0.7398\n",
            "Test ROC AUC: 0.8088041730225086\n"
          ],
          "name": "stdout"
        }
      ]
    },
    {
      "cell_type": "code",
      "metadata": {
        "id": "kmSRYI0R72Wn",
        "colab": {
          "base_uri": "https://localhost:8080/",
          "height": 294
        },
        "outputId": "1cd12bdf-f707-453c-cadc-e4a344cd3142"
      },
      "source": [
        "plt.plot([0, 1], [0, 1], 'k--')\n",
        "#plt.legend(loc=2, prop={'size': 15})\n",
        "plt.plot(fpr, tpr, label='Model 1 (ROC-AUC = {:.3f})'.format(roc_auc))\n",
        "plt.xlabel('False positive rate')\n",
        "plt.ylabel('True positive rate')\n",
        "plt.title('ROC curve')\n",
        "plt.legend(loc='best')\n",
        "plt.show()"
      ],
      "execution_count": 13,
      "outputs": [
        {
          "output_type": "display_data",
          "data": {
            "image/png": "[encoded data removed]",
            "text/plain": [
              "<Figure size 432x288 with 1 Axes>"
            ]
          },
          "metadata": {
            "tags": [],
            "needs_background": "light"
          }
        }
      ]
    },
    {
      "cell_type": "code",
      "metadata": {
        "id": "Jx383RL9nFBe"
      },
      "source": [
        "model.save_weights('weights.h5')"
      ],
      "execution_count": null,
      "outputs": []
    },
    {
      "cell_type": "code",
      "metadata": {
        "id": "ek82eKnpBuI8"
      },
      "source": [
        ""
      ],
      "execution_count": null,
      "outputs": []
    }
  ]
}